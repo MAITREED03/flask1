{
 "cells": [
  {
   "cell_type": "markdown",
   "id": "e05b6737-7db1-4f38-aabc-f809725bc93d",
   "metadata": {},
   "source": [
    "1. What is Flask Framework? What are the advantages of Flask Framework?\n",
    "\n",
    "\n",
    "\n",
    "\n",
    "Flask is a web framework that allows developers to build lightweight web applications quickly and easily with Flask Libraries. It was developed by Armin Ronacher, leader of the International Group of Python Enthusiasts(POCCO). It is basically based on the WSGI toolkit and Jinja2 templating engine.\n",
    "ADVANTAGES:\n",
    "Advantages of Flask:\n",
    "1.\t Flask is a lightweight backend framework with minimal dependencies.\n",
    "2.\t Flask is easy to learn because its simple and intuitive API makes it easy to learn and use for beginners.\n",
    "3.\t Flask is a flexible Framework because it allows you to customize and extend the framework to suit your needs easily.\n",
    "4.\t Flask can be used with any database like:- SQL and NoSQL and with any Frontend Technology such as React or Angular.\n",
    "5.\tFlask is great for small to medium projects that do not require the complexity of a large framework.\n"
   ]
  },
  {
   "cell_type": "markdown",
   "id": "b69d5be3-f15d-4e47-8e71-8b7ce4bfc295",
   "metadata": {},
   "source": [
    "Q2. Create a simple Flask application to display ‘Hello World!!’. Attach the screenshot of the output in Jupyter Notebook."
   ]
  },
  {
   "cell_type": "markdown",
   "id": "7c1a518a-a1d3-4754-be2d-be74c4a4751a",
   "metadata": {},
   "source": [
    "Q3. What is App routing in Flask? Why do we use app routes?\n",
    "\n",
    "App Routing means mapping the URLs to a specific function that will handle the logic for that URL. Modern web frameworks use more meaningful URLs to help users remember the URLs and make navigation simpler. \n",
    "Why do we use it== We use app routes in Flask for several reasons:\n",
    "1.\tOrganization: It helps organize your application into distinct and meaningful sections3.\n",
    "2.\tSimplicity: Modern web frameworks use more meaningful URLs to help users remember the URLs and make navigation simpler14.\n",
    "3.\tDirect Access: It is useful to access the desired page directly without having to navigate from the home page4.\n",
    "4.\tDynamic URLs: We can also build dynamic URLs by using variables in the URL1. For example, @app.route('/user/<username>') would map any URL of the form “/user/some_name” to the show_user function, with some_name passed as an argument\n"
   ]
  },
  {
   "cell_type": "markdown",
   "id": "86545e9b-fc06-422f-8fa4-21aea4d8ceca",
   "metadata": {},
   "source": [
    "Q4. Create a “/welcome” route to display the welcome message “Welcome to ABC Corporation” and a “/” route to show the following details: Company Name: ABC Corporation Location: India Contact Detail: 999-999-9999Q3. What is App routing in Flask? Why do we use app routes\n",
    "\n",
    "\n",
    "from flask import Flask\n",
    "\n",
    "app = Flask(__name__)\n",
    "\n",
    "@app.route('/welcome')\n",
    "def welcome():\n",
    "    return 'Welcome to ABC Corporation'\n",
    "\n",
    "    \n",
    "@app.route('/')\n",
    "def company_info():\n",
    "    return '''\n",
    "    Company Name: ABC Corporation\n",
    "    Location: India\n",
    "    Contact Detail: 999-999-9999\n",
    "    '''\n",
    "\n",
    "if __name__ == '__main__':\n",
    "    app.run(debug=True)\n"
   ]
  },
  {
   "cell_type": "markdown",
   "id": "4e8713d2-6ae4-4754-925b-dd5c0b69d7bc",
   "metadata": {},
   "source": [
    "Q5. What function is used in Flask for URL Building? Write a Python code to demonstrate the working of the\n",
    "url_for() function.\n",
    "\n",
    "\n",
    "In Flask, the url_for() function is used for URL building. It generates a URL for the given endpoint with the specified method and arguments. This is useful for creating dynamic URLs that can adapt to changes in your application routes.\n",
    "\n",
    "Here's a simple example demonstrating the use of the url_for() function in a Flask application:"
   ]
  },
  {
   "cell_type": "code",
   "execution_count": null,
   "id": "e41dca2d-1d3e-4463-9fd1-e0b7a035afd3",
   "metadata": {},
   "outputs": [],
   "source": [
    "from flask import Flask, url_for\n",
    "\n",
    "app = Flask(__name__)\n",
    "\n",
    "# Define a route with an endpoint\n",
    "@app.route('/')\n",
    "def home():\n",
    "    return 'Welcome to the home page!'\n",
    "\n",
    "# Define another route with an endpoint that takes an argument\n",
    "@app.route('/user/<username>')\n",
    "def profile(username):\n",
    "    return f'Hello, {username}!'\n",
    "\n",
    "if __name__ == '__main__':\n",
    "    with app.test_request_context():\n",
    "        # Using url_for to build URLs for the defined endpoints\n",
    "        home_url = url_for('home')\n",
    "        profile_url = url_for('profile', username='john_doe')\n",
    "\n",
    "        print(f'Home URL: {home_url}')\n",
    "        print(f'Profile URL for John Doe: {profile_url}')"
   ]
  }
 ],
 "metadata": {
  "kernelspec": {
   "display_name": "Python 3 (ipykernel)",
   "language": "python",
   "name": "python3"
  },
  "language_info": {
   "codemirror_mode": {
    "name": "ipython",
    "version": 3
   },
   "file_extension": ".py",
   "mimetype": "text/x-python",
   "name": "python",
   "nbconvert_exporter": "python",
   "pygments_lexer": "ipython3",
   "version": "3.10.8"
  }
 },
 "nbformat": 4,
 "nbformat_minor": 5
}
